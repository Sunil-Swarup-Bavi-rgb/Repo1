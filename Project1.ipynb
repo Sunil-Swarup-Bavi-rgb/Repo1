{
 "cells": [
  {
   "cell_type": "markdown",
   "id": "60f0226e-1a9d-4064-9715-50efa6919388",
   "metadata": {},
   "source": [
    "# Bank Customer Churn Analysis"
   ]
  },
  {
   "cell_type": "markdown",
   "id": "88914139-42b3-4a3f-9ec8-41136f7e0fcf",
   "metadata": {},
   "source": [
    "RowNumber- Index or serial number of the record\n",
    "\n",
    "CustomerId- Unique identifier assigned to each customer.\n",
    "\n",
    "Surname- Customer’s last name\n",
    "\n",
    "CreditScore- Customer’s credit score (ranges typically between 300 and 850).\n",
    "\n",
    "Geography- Country/region where the customer resides (e.g., France, Germany, Spain).\n",
    "\n",
    "Gender- Gender of the customer (Male/Female).\n",
    "\n",
    "Age- Customer’s age in years.\n",
    "\n",
    "Tenure- Number of years the customer has been with the bank.\n",
    "\n",
    "Balance- Current account balance of the customer (in monetary units).\n",
    "\n",
    "NumOfProducts- Number of bank products the customer uses (e.g., credit card, loan, etc.).\n",
    "\n",
    "HasCrCard- Whether the customer owns a credit card (1 = Yes, 0 = No).\n",
    "\n",
    "IsActiveMember- Whether the customer is considered an active account holder (1 = Active, 0 = Not).\n",
    "\n",
    "EstimatedSalary- Estimated annual salary of the customer.\n",
    "\n",
    "Exited- Target variable – indicates whether the customer has churned (1 = Yes, 0 = No)."
   ]
  },
  {
   "cell_type": "markdown",
   "id": "048b0c9f-0fc3-4c31-a751-e33b8f92301c",
   "metadata": {},
   "source": [
    "# Import Libraries"
   ]
  },
  {
   "cell_type": "code",
   "execution_count": 3,
   "id": "4eb71316-b7cd-4188-9945-04e630717488",
   "metadata": {},
   "outputs": [],
   "source": [
    "import pandas as pd"
   ]
  },
  {
   "cell_type": "code",
   "execution_count": 4,
   "id": "284ad838-0af6-4282-9bc5-c40c6ff01821",
   "metadata": {},
   "outputs": [],
   "source": [
    "p = pd.read_csv(\"Customer-Churn-Records.csv\")"
   ]
  },
  {
   "cell_type": "code",
   "execution_count": 93,
   "id": "05575858-a915-4e36-a225-a8f40580cd6e",
   "metadata": {},
   "outputs": [
    {
     "data": {
      "text/html": [
       "<div>\n",
       "<style scoped>\n",
       "    .dataframe tbody tr th:only-of-type {\n",
       "        vertical-align: middle;\n",
       "    }\n",
       "\n",
       "    .dataframe tbody tr th {\n",
       "        vertical-align: top;\n",
       "    }\n",
       "\n",
       "    .dataframe thead th {\n",
       "        text-align: right;\n",
       "    }\n",
       "</style>\n",
       "<table border=\"1\" class=\"dataframe\">\n",
       "  <thead>\n",
       "    <tr style=\"text-align: right;\">\n",
       "      <th></th>\n",
       "      <th>RowNumber</th>\n",
       "      <th>CustomerId</th>\n",
       "      <th>Surname</th>\n",
       "      <th>CreditScore</th>\n",
       "      <th>Geography</th>\n",
       "      <th>Gender</th>\n",
       "      <th>Age</th>\n",
       "      <th>Tenure</th>\n",
       "      <th>Balance</th>\n",
       "      <th>NumOfProducts</th>\n",
       "      <th>HasCrCard</th>\n",
       "      <th>IsActiveMember</th>\n",
       "      <th>EstimatedSalary</th>\n",
       "      <th>Exited</th>\n",
       "      <th>Complain</th>\n",
       "      <th>Satisfaction Score</th>\n",
       "      <th>Card Type</th>\n",
       "      <th>Point Earned</th>\n",
       "      <th>AgeGroup</th>\n",
       "      <th>ProductGroup</th>\n",
       "    </tr>\n",
       "  </thead>\n",
       "  <tbody>\n",
       "    <tr>\n",
       "      <th>0</th>\n",
       "      <td>1</td>\n",
       "      <td>15634602</td>\n",
       "      <td>Hargrave</td>\n",
       "      <td>619</td>\n",
       "      <td>France</td>\n",
       "      <td>Female</td>\n",
       "      <td>42</td>\n",
       "      <td>2</td>\n",
       "      <td>0.00</td>\n",
       "      <td>1</td>\n",
       "      <td>1</td>\n",
       "      <td>1</td>\n",
       "      <td>101348.88</td>\n",
       "      <td>1</td>\n",
       "      <td>1</td>\n",
       "      <td>2</td>\n",
       "      <td>DIAMOND</td>\n",
       "      <td>464</td>\n",
       "      <td>Middle Age (31-50)</td>\n",
       "      <td>Single Product</td>\n",
       "    </tr>\n",
       "    <tr>\n",
       "      <th>1</th>\n",
       "      <td>2</td>\n",
       "      <td>15647311</td>\n",
       "      <td>Hill</td>\n",
       "      <td>608</td>\n",
       "      <td>Spain</td>\n",
       "      <td>Female</td>\n",
       "      <td>41</td>\n",
       "      <td>1</td>\n",
       "      <td>83807.86</td>\n",
       "      <td>1</td>\n",
       "      <td>0</td>\n",
       "      <td>1</td>\n",
       "      <td>112542.58</td>\n",
       "      <td>0</td>\n",
       "      <td>1</td>\n",
       "      <td>3</td>\n",
       "      <td>DIAMOND</td>\n",
       "      <td>456</td>\n",
       "      <td>Middle Age (31-50)</td>\n",
       "      <td>Single Product</td>\n",
       "    </tr>\n",
       "    <tr>\n",
       "      <th>2</th>\n",
       "      <td>3</td>\n",
       "      <td>15619304</td>\n",
       "      <td>Onio</td>\n",
       "      <td>502</td>\n",
       "      <td>France</td>\n",
       "      <td>Female</td>\n",
       "      <td>42</td>\n",
       "      <td>8</td>\n",
       "      <td>159660.80</td>\n",
       "      <td>3</td>\n",
       "      <td>1</td>\n",
       "      <td>0</td>\n",
       "      <td>113931.57</td>\n",
       "      <td>1</td>\n",
       "      <td>1</td>\n",
       "      <td>3</td>\n",
       "      <td>DIAMOND</td>\n",
       "      <td>377</td>\n",
       "      <td>Middle Age (31-50)</td>\n",
       "      <td>Multiple Products</td>\n",
       "    </tr>\n",
       "    <tr>\n",
       "      <th>3</th>\n",
       "      <td>4</td>\n",
       "      <td>15701354</td>\n",
       "      <td>Boni</td>\n",
       "      <td>699</td>\n",
       "      <td>France</td>\n",
       "      <td>Female</td>\n",
       "      <td>39</td>\n",
       "      <td>1</td>\n",
       "      <td>0.00</td>\n",
       "      <td>2</td>\n",
       "      <td>0</td>\n",
       "      <td>0</td>\n",
       "      <td>93826.63</td>\n",
       "      <td>0</td>\n",
       "      <td>0</td>\n",
       "      <td>5</td>\n",
       "      <td>GOLD</td>\n",
       "      <td>350</td>\n",
       "      <td>Middle Age (31-50)</td>\n",
       "      <td>Multiple Products</td>\n",
       "    </tr>\n",
       "    <tr>\n",
       "      <th>4</th>\n",
       "      <td>5</td>\n",
       "      <td>15737888</td>\n",
       "      <td>Mitchell</td>\n",
       "      <td>850</td>\n",
       "      <td>Spain</td>\n",
       "      <td>Female</td>\n",
       "      <td>43</td>\n",
       "      <td>2</td>\n",
       "      <td>125510.82</td>\n",
       "      <td>1</td>\n",
       "      <td>1</td>\n",
       "      <td>1</td>\n",
       "      <td>79084.10</td>\n",
       "      <td>0</td>\n",
       "      <td>0</td>\n",
       "      <td>5</td>\n",
       "      <td>GOLD</td>\n",
       "      <td>425</td>\n",
       "      <td>Middle Age (31-50)</td>\n",
       "      <td>Single Product</td>\n",
       "    </tr>\n",
       "    <tr>\n",
       "      <th>...</th>\n",
       "      <td>...</td>\n",
       "      <td>...</td>\n",
       "      <td>...</td>\n",
       "      <td>...</td>\n",
       "      <td>...</td>\n",
       "      <td>...</td>\n",
       "      <td>...</td>\n",
       "      <td>...</td>\n",
       "      <td>...</td>\n",
       "      <td>...</td>\n",
       "      <td>...</td>\n",
       "      <td>...</td>\n",
       "      <td>...</td>\n",
       "      <td>...</td>\n",
       "      <td>...</td>\n",
       "      <td>...</td>\n",
       "      <td>...</td>\n",
       "      <td>...</td>\n",
       "      <td>...</td>\n",
       "      <td>...</td>\n",
       "    </tr>\n",
       "    <tr>\n",
       "      <th>9995</th>\n",
       "      <td>9996</td>\n",
       "      <td>15606229</td>\n",
       "      <td>Obijiaku</td>\n",
       "      <td>771</td>\n",
       "      <td>France</td>\n",
       "      <td>Male</td>\n",
       "      <td>39</td>\n",
       "      <td>5</td>\n",
       "      <td>0.00</td>\n",
       "      <td>2</td>\n",
       "      <td>1</td>\n",
       "      <td>0</td>\n",
       "      <td>96270.64</td>\n",
       "      <td>0</td>\n",
       "      <td>0</td>\n",
       "      <td>1</td>\n",
       "      <td>DIAMOND</td>\n",
       "      <td>300</td>\n",
       "      <td>Middle Age (31-50)</td>\n",
       "      <td>Multiple Products</td>\n",
       "    </tr>\n",
       "    <tr>\n",
       "      <th>9996</th>\n",
       "      <td>9997</td>\n",
       "      <td>15569892</td>\n",
       "      <td>Johnstone</td>\n",
       "      <td>516</td>\n",
       "      <td>France</td>\n",
       "      <td>Male</td>\n",
       "      <td>35</td>\n",
       "      <td>10</td>\n",
       "      <td>57369.61</td>\n",
       "      <td>1</td>\n",
       "      <td>1</td>\n",
       "      <td>1</td>\n",
       "      <td>101699.77</td>\n",
       "      <td>0</td>\n",
       "      <td>0</td>\n",
       "      <td>5</td>\n",
       "      <td>PLATINUM</td>\n",
       "      <td>771</td>\n",
       "      <td>Middle Age (31-50)</td>\n",
       "      <td>Single Product</td>\n",
       "    </tr>\n",
       "    <tr>\n",
       "      <th>9997</th>\n",
       "      <td>9998</td>\n",
       "      <td>15584532</td>\n",
       "      <td>Liu</td>\n",
       "      <td>709</td>\n",
       "      <td>France</td>\n",
       "      <td>Female</td>\n",
       "      <td>36</td>\n",
       "      <td>7</td>\n",
       "      <td>0.00</td>\n",
       "      <td>1</td>\n",
       "      <td>0</td>\n",
       "      <td>1</td>\n",
       "      <td>42085.58</td>\n",
       "      <td>1</td>\n",
       "      <td>1</td>\n",
       "      <td>3</td>\n",
       "      <td>SILVER</td>\n",
       "      <td>564</td>\n",
       "      <td>Middle Age (31-50)</td>\n",
       "      <td>Single Product</td>\n",
       "    </tr>\n",
       "    <tr>\n",
       "      <th>9998</th>\n",
       "      <td>9999</td>\n",
       "      <td>15682355</td>\n",
       "      <td>Sabbatini</td>\n",
       "      <td>772</td>\n",
       "      <td>Germany</td>\n",
       "      <td>Male</td>\n",
       "      <td>42</td>\n",
       "      <td>3</td>\n",
       "      <td>75075.31</td>\n",
       "      <td>2</td>\n",
       "      <td>1</td>\n",
       "      <td>0</td>\n",
       "      <td>92888.52</td>\n",
       "      <td>1</td>\n",
       "      <td>1</td>\n",
       "      <td>2</td>\n",
       "      <td>GOLD</td>\n",
       "      <td>339</td>\n",
       "      <td>Middle Age (31-50)</td>\n",
       "      <td>Multiple Products</td>\n",
       "    </tr>\n",
       "    <tr>\n",
       "      <th>9999</th>\n",
       "      <td>10000</td>\n",
       "      <td>15628319</td>\n",
       "      <td>Walker</td>\n",
       "      <td>792</td>\n",
       "      <td>France</td>\n",
       "      <td>Female</td>\n",
       "      <td>28</td>\n",
       "      <td>4</td>\n",
       "      <td>130142.79</td>\n",
       "      <td>1</td>\n",
       "      <td>1</td>\n",
       "      <td>0</td>\n",
       "      <td>38190.78</td>\n",
       "      <td>0</td>\n",
       "      <td>0</td>\n",
       "      <td>3</td>\n",
       "      <td>DIAMOND</td>\n",
       "      <td>911</td>\n",
       "      <td>Adult (18-30)</td>\n",
       "      <td>Single Product</td>\n",
       "    </tr>\n",
       "  </tbody>\n",
       "</table>\n",
       "<p>10000 rows × 20 columns</p>\n",
       "</div>"
      ],
      "text/plain": [
       "      RowNumber  CustomerId    Surname  CreditScore Geography  Gender  Age  \\\n",
       "0             1    15634602   Hargrave          619    France  Female   42   \n",
       "1             2    15647311       Hill          608     Spain  Female   41   \n",
       "2             3    15619304       Onio          502    France  Female   42   \n",
       "3             4    15701354       Boni          699    France  Female   39   \n",
       "4             5    15737888   Mitchell          850     Spain  Female   43   \n",
       "...         ...         ...        ...          ...       ...     ...  ...   \n",
       "9995       9996    15606229   Obijiaku          771    France    Male   39   \n",
       "9996       9997    15569892  Johnstone          516    France    Male   35   \n",
       "9997       9998    15584532        Liu          709    France  Female   36   \n",
       "9998       9999    15682355  Sabbatini          772   Germany    Male   42   \n",
       "9999      10000    15628319     Walker          792    France  Female   28   \n",
       "\n",
       "      Tenure    Balance  NumOfProducts  HasCrCard  IsActiveMember  \\\n",
       "0          2       0.00              1          1               1   \n",
       "1          1   83807.86              1          0               1   \n",
       "2          8  159660.80              3          1               0   \n",
       "3          1       0.00              2          0               0   \n",
       "4          2  125510.82              1          1               1   \n",
       "...      ...        ...            ...        ...             ...   \n",
       "9995       5       0.00              2          1               0   \n",
       "9996      10   57369.61              1          1               1   \n",
       "9997       7       0.00              1          0               1   \n",
       "9998       3   75075.31              2          1               0   \n",
       "9999       4  130142.79              1          1               0   \n",
       "\n",
       "      EstimatedSalary  Exited  Complain  Satisfaction Score Card Type  \\\n",
       "0           101348.88       1         1                   2   DIAMOND   \n",
       "1           112542.58       0         1                   3   DIAMOND   \n",
       "2           113931.57       1         1                   3   DIAMOND   \n",
       "3            93826.63       0         0                   5      GOLD   \n",
       "4            79084.10       0         0                   5      GOLD   \n",
       "...               ...     ...       ...                 ...       ...   \n",
       "9995         96270.64       0         0                   1   DIAMOND   \n",
       "9996        101699.77       0         0                   5  PLATINUM   \n",
       "9997         42085.58       1         1                   3    SILVER   \n",
       "9998         92888.52       1         1                   2      GOLD   \n",
       "9999         38190.78       0         0                   3   DIAMOND   \n",
       "\n",
       "      Point Earned            AgeGroup       ProductGroup  \n",
       "0              464  Middle Age (31-50)     Single Product  \n",
       "1              456  Middle Age (31-50)     Single Product  \n",
       "2              377  Middle Age (31-50)  Multiple Products  \n",
       "3              350  Middle Age (31-50)  Multiple Products  \n",
       "4              425  Middle Age (31-50)     Single Product  \n",
       "...            ...                 ...                ...  \n",
       "9995           300  Middle Age (31-50)  Multiple Products  \n",
       "9996           771  Middle Age (31-50)     Single Product  \n",
       "9997           564  Middle Age (31-50)     Single Product  \n",
       "9998           339  Middle Age (31-50)  Multiple Products  \n",
       "9999           911       Adult (18-30)     Single Product  \n",
       "\n",
       "[10000 rows x 20 columns]"
      ]
     },
     "execution_count": 93,
     "metadata": {},
     "output_type": "execute_result"
    }
   ],
   "source": [
    "p"
   ]
  },
  {
   "cell_type": "code",
   "execution_count": 6,
   "id": "f4a05619-577f-44f5-b73f-809625949ee3",
   "metadata": {},
   "outputs": [],
   "source": [
    "#Q11"
   ]
  },
  {
   "cell_type": "markdown",
   "id": "14e83e03-931c-4497-81b0-168a3021f9a2",
   "metadata": {},
   "source": [
    "# Cheking missing values"
   ]
  },
  {
   "cell_type": "code",
   "execution_count": 7,
   "id": "9d7c5ffe-2c6f-42d2-a18b-362d972ff8e3",
   "metadata": {},
   "outputs": [
    {
     "name": "stdout",
     "output_type": "stream",
     "text": [
      "\n",
      "Null values in each column:\n"
     ]
    },
    {
     "data": {
      "text/plain": [
       "RowNumber             0\n",
       "CustomerId            0\n",
       "Surname               0\n",
       "CreditScore           0\n",
       "Geography             0\n",
       "Gender                0\n",
       "Age                   0\n",
       "Tenure                0\n",
       "Balance               0\n",
       "NumOfProducts         0\n",
       "HasCrCard             0\n",
       "IsActiveMember        0\n",
       "EstimatedSalary       0\n",
       "Exited                0\n",
       "Complain              0\n",
       "Satisfaction Score    0\n",
       "Card Type             0\n",
       "Point Earned          0\n",
       "dtype: int64"
      ]
     },
     "execution_count": 7,
     "metadata": {},
     "output_type": "execute_result"
    }
   ],
   "source": [
    "print(\"\\nNull values in each column:\")\n",
    "null = (p.isnull().sum())\n",
    "null"
   ]
  },
  {
   "cell_type": "code",
   "execution_count": 8,
   "id": "6a4ffc31-9306-4295-b316-322d63bc23cf",
   "metadata": {},
   "outputs": [
    {
     "data": {
      "text/plain": [
       "0"
      ]
     },
     "execution_count": 8,
     "metadata": {},
     "output_type": "execute_result"
    }
   ],
   "source": [
    "p.duplicated().sum()"
   ]
  },
  {
   "cell_type": "code",
   "execution_count": 9,
   "id": "2f87452d-d696-4ce4-a458-ed84831a0e8f",
   "metadata": {},
   "outputs": [],
   "source": [
    "#Q12"
   ]
  },
  {
   "cell_type": "markdown",
   "id": "fdcc308f-565f-4237-83c6-4016b4fc34a2",
   "metadata": {},
   "source": [
    "# Nom of rows and columns"
   ]
  },
  {
   "cell_type": "code",
   "execution_count": 10,
   "id": "57365a76-0bb0-4010-9f85-d9548efd69bd",
   "metadata": {},
   "outputs": [
    {
     "data": {
      "text/plain": [
       "(10000, 18)"
      ]
     },
     "execution_count": 10,
     "metadata": {},
     "output_type": "execute_result"
    }
   ],
   "source": [
    "p.shape"
   ]
  },
  {
   "cell_type": "code",
   "execution_count": 11,
   "id": "8d4848dd-3400-4b19-8b39-307805fec663",
   "metadata": {},
   "outputs": [],
   "source": [
    "#Q13"
   ]
  },
  {
   "cell_type": "markdown",
   "id": "c99392b1-9a62-429b-bfa1-b146a0aad1fd",
   "metadata": {},
   "source": [
    "# Count distribution"
   ]
  },
  {
   "cell_type": "code",
   "execution_count": 12,
   "id": "63133619-dd96-44d7-943d-2cd1fa462e10",
   "metadata": {},
   "outputs": [],
   "source": [
    "churn_distribution = p['Exited'].value_counts().reset_index()"
   ]
  },
  {
   "cell_type": "code",
   "execution_count": 13,
   "id": "a2d9326e-a497-48ec-abf6-74c774a10f11",
   "metadata": {},
   "outputs": [
    {
     "data": {
      "text/html": [
       "<div>\n",
       "<style scoped>\n",
       "    .dataframe tbody tr th:only-of-type {\n",
       "        vertical-align: middle;\n",
       "    }\n",
       "\n",
       "    .dataframe tbody tr th {\n",
       "        vertical-align: top;\n",
       "    }\n",
       "\n",
       "    .dataframe thead th {\n",
       "        text-align: right;\n",
       "    }\n",
       "</style>\n",
       "<table border=\"1\" class=\"dataframe\">\n",
       "  <thead>\n",
       "    <tr style=\"text-align: right;\">\n",
       "      <th></th>\n",
       "      <th>Exited</th>\n",
       "      <th>count</th>\n",
       "    </tr>\n",
       "  </thead>\n",
       "  <tbody>\n",
       "    <tr>\n",
       "      <th>0</th>\n",
       "      <td>0</td>\n",
       "      <td>7962</td>\n",
       "    </tr>\n",
       "    <tr>\n",
       "      <th>1</th>\n",
       "      <td>1</td>\n",
       "      <td>2038</td>\n",
       "    </tr>\n",
       "  </tbody>\n",
       "</table>\n",
       "</div>"
      ],
      "text/plain": [
       "   Exited  count\n",
       "0       0   7962\n",
       "1       1   2038"
      ]
     },
     "execution_count": 13,
     "metadata": {},
     "output_type": "execute_result"
    }
   ],
   "source": [
    "churn_distribution"
   ]
  },
  {
   "cell_type": "code",
   "execution_count": 14,
   "id": "fba95df7-5296-44ef-bdf2-e900ab065ca4",
   "metadata": {},
   "outputs": [],
   "source": [
    "#Q14"
   ]
  },
  {
   "cell_type": "markdown",
   "id": "efdf7fa2-3920-4492-99d3-5b6da11d3490",
   "metadata": {},
   "source": [
    "## Distribution of EstimatedSalary of churned and retained Customers"
   ]
  },
  {
   "cell_type": "code",
   "execution_count": 15,
   "id": "bfcd75b9-dfa6-4df0-bff5-44124c4069e4",
   "metadata": {},
   "outputs": [],
   "source": [
    "churned = p[p['Exited'] == 1]['EstimatedSalary']\n",
    "retained = p[p['Exited'] == 0]['EstimatedSalary']"
   ]
  },
  {
   "cell_type": "code",
   "execution_count": 16,
   "id": "ddd700f1-0a67-4560-ae16-7e49a96e2895",
   "metadata": {},
   "outputs": [
    {
     "data": {
      "text/plain": [
       "0       101348.88\n",
       "2       113931.57\n",
       "5       149756.71\n",
       "7       119346.88\n",
       "16        5097.67\n",
       "          ...    \n",
       "9981     53445.17\n",
       "9982    115146.40\n",
       "9991     69384.71\n",
       "9997     42085.58\n",
       "9998     92888.52\n",
       "Name: EstimatedSalary, Length: 2038, dtype: float64"
      ]
     },
     "execution_count": 16,
     "metadata": {},
     "output_type": "execute_result"
    }
   ],
   "source": [
    "churned\n"
   ]
  },
  {
   "cell_type": "code",
   "execution_count": 17,
   "id": "0da495dd-0950-4a63-99cb-0e038105f5c0",
   "metadata": {},
   "outputs": [
    {
     "data": {
      "text/plain": [
       "1       112542.58\n",
       "3        93826.63\n",
       "4        79084.10\n",
       "6        10062.80\n",
       "8        74940.50\n",
       "          ...    \n",
       "9993     29179.52\n",
       "9994    167773.55\n",
       "9995     96270.64\n",
       "9996    101699.77\n",
       "9999     38190.78\n",
       "Name: EstimatedSalary, Length: 7962, dtype: float64"
      ]
     },
     "execution_count": 17,
     "metadata": {},
     "output_type": "execute_result"
    }
   ],
   "source": [
    "retained"
   ]
  },
  {
   "cell_type": "code",
   "execution_count": 18,
   "id": "efc5eafb-09e8-4c20-b617-43db91581cd7",
   "metadata": {},
   "outputs": [],
   "source": [
    "#Distribution= p.groupby('Exited')['EstimatedSalary'].mean() "
   ]
  },
  {
   "cell_type": "code",
   "execution_count": 19,
   "id": "d810374f-7b60-44f8-882c-1b570dd29c20",
   "metadata": {},
   "outputs": [],
   "source": [
    "#Q15"
   ]
  },
  {
   "cell_type": "markdown",
   "id": "81c5b863-f45e-4c3e-b2b6-111927143a97",
   "metadata": {},
   "source": [
    "# Churn rate by Gender"
   ]
  },
  {
   "cell_type": "code",
   "execution_count": 20,
   "id": "56232763-256f-4beb-90d9-d726bdefda30",
   "metadata": {},
   "outputs": [],
   "source": [
    "churn_by_Gender = p.groupby('Gender')['Exited'].mean().reset_index()\n",
    "churn_by_Gender.rename(columns={'Exited': 'ChurnRate'}, inplace=True)"
   ]
  },
  {
   "cell_type": "code",
   "execution_count": 21,
   "id": "36fe4dee-8596-4258-b66c-198146acdbe3",
   "metadata": {},
   "outputs": [
    {
     "data": {
      "text/html": [
       "<div>\n",
       "<style scoped>\n",
       "    .dataframe tbody tr th:only-of-type {\n",
       "        vertical-align: middle;\n",
       "    }\n",
       "\n",
       "    .dataframe tbody tr th {\n",
       "        vertical-align: top;\n",
       "    }\n",
       "\n",
       "    .dataframe thead th {\n",
       "        text-align: right;\n",
       "    }\n",
       "</style>\n",
       "<table border=\"1\" class=\"dataframe\">\n",
       "  <thead>\n",
       "    <tr style=\"text-align: right;\">\n",
       "      <th></th>\n",
       "      <th>Gender</th>\n",
       "      <th>ChurnRate</th>\n",
       "    </tr>\n",
       "  </thead>\n",
       "  <tbody>\n",
       "    <tr>\n",
       "      <th>0</th>\n",
       "      <td>Female</td>\n",
       "      <td>0.250715</td>\n",
       "    </tr>\n",
       "    <tr>\n",
       "      <th>1</th>\n",
       "      <td>Male</td>\n",
       "      <td>0.164743</td>\n",
       "    </tr>\n",
       "  </tbody>\n",
       "</table>\n",
       "</div>"
      ],
      "text/plain": [
       "   Gender  ChurnRate\n",
       "0  Female   0.250715\n",
       "1    Male   0.164743"
      ]
     },
     "execution_count": 21,
     "metadata": {},
     "output_type": "execute_result"
    }
   ],
   "source": [
    "churn_by_Gender"
   ]
  },
  {
   "cell_type": "markdown",
   "id": "25e45945-6f17-4279-b930-deae8f30ddab",
   "metadata": {},
   "source": [
    "# Churn rate by geography"
   ]
  },
  {
   "cell_type": "code",
   "execution_count": 22,
   "id": "13288b58-f876-43c2-9700-a5f42cddae19",
   "metadata": {},
   "outputs": [],
   "source": [
    "churn_by_geography = p.groupby('Geography')['Exited'].mean().reset_index()\n",
    "churn_by_geography.rename(columns={'Exited': 'ChurnRate'}, inplace=True)"
   ]
  },
  {
   "cell_type": "code",
   "execution_count": 23,
   "id": "87ef24db-081c-4fc0-8a5c-cf715ad0a3e9",
   "metadata": {},
   "outputs": [
    {
     "data": {
      "text/html": [
       "<div>\n",
       "<style scoped>\n",
       "    .dataframe tbody tr th:only-of-type {\n",
       "        vertical-align: middle;\n",
       "    }\n",
       "\n",
       "    .dataframe tbody tr th {\n",
       "        vertical-align: top;\n",
       "    }\n",
       "\n",
       "    .dataframe thead th {\n",
       "        text-align: right;\n",
       "    }\n",
       "</style>\n",
       "<table border=\"1\" class=\"dataframe\">\n",
       "  <thead>\n",
       "    <tr style=\"text-align: right;\">\n",
       "      <th></th>\n",
       "      <th>Geography</th>\n",
       "      <th>ChurnRate</th>\n",
       "    </tr>\n",
       "  </thead>\n",
       "  <tbody>\n",
       "    <tr>\n",
       "      <th>0</th>\n",
       "      <td>France</td>\n",
       "      <td>0.161747</td>\n",
       "    </tr>\n",
       "    <tr>\n",
       "      <th>1</th>\n",
       "      <td>Germany</td>\n",
       "      <td>0.324432</td>\n",
       "    </tr>\n",
       "    <tr>\n",
       "      <th>2</th>\n",
       "      <td>Spain</td>\n",
       "      <td>0.166734</td>\n",
       "    </tr>\n",
       "  </tbody>\n",
       "</table>\n",
       "</div>"
      ],
      "text/plain": [
       "  Geography  ChurnRate\n",
       "0    France   0.161747\n",
       "1   Germany   0.324432\n",
       "2     Spain   0.166734"
      ]
     },
     "execution_count": 23,
     "metadata": {},
     "output_type": "execute_result"
    }
   ],
   "source": [
    "churn_by_geography"
   ]
  },
  {
   "cell_type": "markdown",
   "id": "0675aca5-116e-4dab-b464-affc2f068460",
   "metadata": {},
   "source": [
    "# Churn rate by IsActiveMember"
   ]
  },
  {
   "cell_type": "code",
   "execution_count": 24,
   "id": "2e796e40-2dee-4b7a-8d41-e715583b9dfa",
   "metadata": {},
   "outputs": [],
   "source": [
    "#Churn rate by IsActiveMember\n",
    "churn_by_IsActiveMember = p.groupby('IsActiveMember')['Exited'].mean().reset_index()\n",
    "churn_by_IsActiveMember.rename(columns={'Exited': 'ChurnRate'}, inplace=True)"
   ]
  },
  {
   "cell_type": "code",
   "execution_count": 25,
   "id": "f90bc734-24a0-461a-ad0b-8478b393df90",
   "metadata": {},
   "outputs": [
    {
     "data": {
      "text/html": [
       "<div>\n",
       "<style scoped>\n",
       "    .dataframe tbody tr th:only-of-type {\n",
       "        vertical-align: middle;\n",
       "    }\n",
       "\n",
       "    .dataframe tbody tr th {\n",
       "        vertical-align: top;\n",
       "    }\n",
       "\n",
       "    .dataframe thead th {\n",
       "        text-align: right;\n",
       "    }\n",
       "</style>\n",
       "<table border=\"1\" class=\"dataframe\">\n",
       "  <thead>\n",
       "    <tr style=\"text-align: right;\">\n",
       "      <th></th>\n",
       "      <th>IsActiveMember</th>\n",
       "      <th>ChurnRate</th>\n",
       "    </tr>\n",
       "  </thead>\n",
       "  <tbody>\n",
       "    <tr>\n",
       "      <th>0</th>\n",
       "      <td>0</td>\n",
       "      <td>0.268715</td>\n",
       "    </tr>\n",
       "    <tr>\n",
       "      <th>1</th>\n",
       "      <td>1</td>\n",
       "      <td>0.142691</td>\n",
       "    </tr>\n",
       "  </tbody>\n",
       "</table>\n",
       "</div>"
      ],
      "text/plain": [
       "   IsActiveMember  ChurnRate\n",
       "0               0   0.268715\n",
       "1               1   0.142691"
      ]
     },
     "execution_count": 25,
     "metadata": {},
     "output_type": "execute_result"
    }
   ],
   "source": [
    "churn_by_IsActiveMember"
   ]
  },
  {
   "cell_type": "code",
   "execution_count": 26,
   "id": "bb29abc2-9236-43a0-939a-f0fd0a6ba332",
   "metadata": {},
   "outputs": [],
   "source": [
    "#churn_rate_geo = p.groupby('Geography')['Exited'].mean() * 100"
   ]
  },
  {
   "cell_type": "code",
   "execution_count": 27,
   "id": "cdea2b3b-0a04-47bf-869c-500fb8ea6649",
   "metadata": {},
   "outputs": [],
   "source": [
    "#Q16"
   ]
  },
  {
   "cell_type": "markdown",
   "id": "cd504294-e7ab-46da-b458-a6bb0d71b1e0",
   "metadata": {},
   "source": [
    "# Group by churn status (Exited) and calculate mean values"
   ]
  },
  {
   "cell_type": "code",
   "execution_count": 28,
   "id": "a4f5d2df-fc4a-4d3f-905a-4a760daa9657",
   "metadata": {},
   "outputs": [],
   "source": [
    "avg_metrics = p.groupby('Exited')[['CreditScore', 'Balance', 'EstimatedSalary']].mean().reset_index()"
   ]
  },
  {
   "cell_type": "code",
   "execution_count": 29,
   "id": "2500d354-cf34-4262-91a4-c40c0f168c32",
   "metadata": {},
   "outputs": [
    {
     "data": {
      "text/html": [
       "<div>\n",
       "<style scoped>\n",
       "    .dataframe tbody tr th:only-of-type {\n",
       "        vertical-align: middle;\n",
       "    }\n",
       "\n",
       "    .dataframe tbody tr th {\n",
       "        vertical-align: top;\n",
       "    }\n",
       "\n",
       "    .dataframe thead th {\n",
       "        text-align: right;\n",
       "    }\n",
       "</style>\n",
       "<table border=\"1\" class=\"dataframe\">\n",
       "  <thead>\n",
       "    <tr style=\"text-align: right;\">\n",
       "      <th></th>\n",
       "      <th>Exited</th>\n",
       "      <th>CreditScore</th>\n",
       "      <th>Balance</th>\n",
       "      <th>EstimatedSalary</th>\n",
       "    </tr>\n",
       "  </thead>\n",
       "  <tbody>\n",
       "    <tr>\n",
       "      <th>0</th>\n",
       "      <td>0</td>\n",
       "      <td>651.837855</td>\n",
       "      <td>72742.750663</td>\n",
       "      <td>99726.853141</td>\n",
       "    </tr>\n",
       "    <tr>\n",
       "      <th>1</th>\n",
       "      <td>1</td>\n",
       "      <td>645.414622</td>\n",
       "      <td>91109.476006</td>\n",
       "      <td>101509.908783</td>\n",
       "    </tr>\n",
       "  </tbody>\n",
       "</table>\n",
       "</div>"
      ],
      "text/plain": [
       "   Exited  CreditScore       Balance  EstimatedSalary\n",
       "0       0   651.837855  72742.750663     99726.853141\n",
       "1       1   645.414622  91109.476006    101509.908783"
      ]
     },
     "execution_count": 29,
     "metadata": {},
     "output_type": "execute_result"
    }
   ],
   "source": [
    "avg_metrics"
   ]
  },
  {
   "cell_type": "code",
   "execution_count": 30,
   "id": "5c5d2e33-d862-4d6f-a842-bd021245d542",
   "metadata": {},
   "outputs": [],
   "source": [
    "#Q17"
   ]
  },
  {
   "cell_type": "markdown",
   "id": "dfbff9fc-8a5e-4a0d-94cb-370907af2dc8",
   "metadata": {},
   "source": [
    "## How does Age impact churn? Plot histograms and boxplots for churned and non-churned groups"
   ]
  },
  {
   "cell_type": "markdown",
   "id": "b9847561-746c-4ab1-af2f-11371299afe3",
   "metadata": {},
   "source": [
    "# Import matplotib"
   ]
  },
  {
   "cell_type": "code",
   "execution_count": 31,
   "id": "4c00514b-8153-42b7-bbf9-f4174adf842e",
   "metadata": {},
   "outputs": [],
   "source": [
    "import matplotlib.pyplot as plt"
   ]
  },
  {
   "cell_type": "code",
   "execution_count": 32,
   "id": "a6912568-70f3-452f-b034-69d9456aea1d",
   "metadata": {},
   "outputs": [
    {
     "data": {
      "image/png": "[encoded data removed]",
      "text/plain": [
       "<Figure size 1000x500 with 1 Axes>"
      ]
     },
     "metadata": {},
     "output_type": "display_data"
    }
   ],
   "source": [
    "# Create separate age series\n",
    "churned_ages = p[p['Exited'] == 1]['Age']\n",
    "retained_ages = p[p['Exited'] == 0]['Age']\n",
    "\n",
    "# Plot histograms\n",
    "plt.figure(figsize=(10, 5))\n",
    "plt.hist(retained_ages, bins=30, alpha=0.6, label='Retained', color='blue')\n",
    "plt.hist(churned_ages, bins=30, alpha=0.6, label='Churned', color='red')\n",
    "plt.title('Age Distribution: Churned vs Retained')\n",
    "plt.xlabel('Age')\n",
    "plt.ylabel('Number of Customers')\n",
    "plt.legend()\n",
    "plt.grid(True)\n",
    "plt.show()\n"
   ]
  },
  {
   "cell_type": "markdown",
   "id": "da193f97-b8fa-4639-9e53-50fac74a0e6f",
   "metadata": {},
   "source": [
    "# Boxplot"
   ]
  },
  {
   "cell_type": "code",
   "execution_count": 33,
   "id": "ea80c16f-b94d-4854-a4eb-c43d8cbf0979",
   "metadata": {},
   "outputs": [
    {
     "data": {
      "image/png": "[encoded data removed]",
      "text/plain": [
       "<Figure size 800x600 with 1 Axes>"
      ]
     },
     "metadata": {},
     "output_type": "display_data"
    }
   ],
   "source": [
    "# Boxplot\n",
    "p.boxplot(column='Age', by='Exited', figsize=(8, 6), grid=True,\n",
    "           patch_artist=True, boxprops=dict(facecolor='lightblue'))\n",
    "plt.title('Boxplot of Age by Churn Status')\n",
    "plt.suptitle('')  \n",
    "plt.xlabel('Exited (0 = Retained, 1 = Churned)')\n",
    "plt.ylabel('Age')\n",
    "plt.show()"
   ]
  },
  {
   "cell_type": "code",
   "execution_count": 34,
   "id": "b6088870-280d-4a34-a9f9-0695ead05ecc",
   "metadata": {},
   "outputs": [],
   "source": [
    "#Q18"
   ]
  },
  {
   "cell_type": "markdown",
   "id": "b480add1-2cb0-4f47-a39d-22d62ab4c8ee",
   "metadata": {},
   "source": [
    "### Is there any correlation among numeric features like CreditScore, Balance, and EstimatedSalary?"
   ]
  },
  {
   "cell_type": "code",
   "execution_count": 35,
   "id": "46ff6635-1e2c-45a3-a305-b2229fec0d31",
   "metadata": {},
   "outputs": [],
   "source": [
    "# Select numeric features of interest\n",
    "numeric_cols = ['CreditScore', 'Balance', 'EstimatedSalary']\n",
    "\n",
    "# Compute correlation matrix\n",
    "correlation_matrix = p[numeric_cols].corr(numeric_only=True)\n"
   ]
  },
  {
   "cell_type": "code",
   "execution_count": 36,
   "id": "c2d87ca3-4a7c-48d3-9020-14787cdb61eb",
   "metadata": {},
   "outputs": [
    {
     "data": {
      "text/html": [
       "<div>\n",
       "<style scoped>\n",
       "    .dataframe tbody tr th:only-of-type {\n",
       "        vertical-align: middle;\n",
       "    }\n",
       "\n",
       "    .dataframe tbody tr th {\n",
       "        vertical-align: top;\n",
       "    }\n",
       "\n",
       "    .dataframe thead th {\n",
       "        text-align: right;\n",
       "    }\n",
       "</style>\n",
       "<table border=\"1\" class=\"dataframe\">\n",
       "  <thead>\n",
       "    <tr style=\"text-align: right;\">\n",
       "      <th></th>\n",
       "      <th>CreditScore</th>\n",
       "      <th>Balance</th>\n",
       "      <th>EstimatedSalary</th>\n",
       "    </tr>\n",
       "  </thead>\n",
       "  <tbody>\n",
       "    <tr>\n",
       "      <th>CreditScore</th>\n",
       "      <td>1.000000</td>\n",
       "      <td>0.006268</td>\n",
       "      <td>-0.001384</td>\n",
       "    </tr>\n",
       "    <tr>\n",
       "      <th>Balance</th>\n",
       "      <td>0.006268</td>\n",
       "      <td>1.000000</td>\n",
       "      <td>0.012797</td>\n",
       "    </tr>\n",
       "    <tr>\n",
       "      <th>EstimatedSalary</th>\n",
       "      <td>-0.001384</td>\n",
       "      <td>0.012797</td>\n",
       "      <td>1.000000</td>\n",
       "    </tr>\n",
       "  </tbody>\n",
       "</table>\n",
       "</div>"
      ],
      "text/plain": [
       "                 CreditScore   Balance  EstimatedSalary\n",
       "CreditScore         1.000000  0.006268        -0.001384\n",
       "Balance             0.006268  1.000000         0.012797\n",
       "EstimatedSalary    -0.001384  0.012797         1.000000"
      ]
     },
     "execution_count": 36,
     "metadata": {},
     "output_type": "execute_result"
    }
   ],
   "source": [
    "correlation_matrix"
   ]
  },
  {
   "cell_type": "code",
   "execution_count": 37,
   "id": "a5598753-53c0-40a4-aa7f-8104b1d32355",
   "metadata": {},
   "outputs": [],
   "source": [
    "#Q19"
   ]
  },
  {
   "cell_type": "markdown",
   "id": "1970f0a0-4401-4c13-bd76-e5f333f68694",
   "metadata": {},
   "source": [
    "### What does a heatmap reveal about feature interactions with churn?"
   ]
  },
  {
   "cell_type": "markdown",
   "id": "11c632df-d1bc-4f63-a9fc-49f5eb9899f8",
   "metadata": {},
   "source": [
    "# Seaborn"
   ]
  },
  {
   "cell_type": "code",
   "execution_count": 38,
   "id": "330ce6b2-5adc-4c99-af33-d75a919c6d24",
   "metadata": {},
   "outputs": [],
   "source": [
    "import seaborn as sns"
   ]
  },
  {
   "cell_type": "code",
   "execution_count": 39,
   "id": "e8438dd2-0f6f-446e-ab37-7ebfdcda4245",
   "metadata": {},
   "outputs": [
    {
     "data": {
      "image/png": "[encoded data removed]",
      "text/plain": [
       "<Figure size 1000x800 with 2 Axes>"
      ]
     },
     "metadata": {},
     "output_type": "display_data"
    }
   ],
   "source": [
    "# Select numeric features\n",
    "numeric_features = p.select_dtypes(include='number')\n",
    "\n",
    "# Compute correlation matrix\n",
    "corr_matrix = numeric_features.corr()\n",
    "\n",
    "# Plot heatmap (focus on churn column)\n",
    "plt.figure(figsize=(10, 8))\n",
    "sns.heatmap(corr_matrix[['Exited']].sort_values(by='Exited', ascending=False), \n",
    "            annot=True, cmap='coolwarm', fmt=\".2f\")\n",
    "plt.title('Correlation of Features with Churn (Exited)')\n",
    "plt.show()"
   ]
  },
  {
   "cell_type": "code",
   "execution_count": 40,
   "id": "a5ab478c-5ad9-42c4-9021-06d7790e5418",
   "metadata": {},
   "outputs": [],
   "source": [
    "#Q20"
   ]
  },
  {
   "cell_type": "markdown",
   "id": "0c827fda-d45a-41a0-a1d9-6f4da5addfe8",
   "metadata": {},
   "source": [
    "### Are there outliers in Balance, CreditScore, or Age that are mostly associated with churn?"
   ]
  },
  {
   "cell_type": "markdown",
   "id": "2b7fb23a-599f-47ce-81b4-d24df370b734",
   "metadata": {},
   "source": [
    "# Subplots"
   ]
  },
  {
   "cell_type": "code",
   "execution_count": 41,
   "id": "237bc23d-21cc-4ec8-89bb-551feb3a7cae",
   "metadata": {},
   "outputs": [
    {
     "data": {
      "image/png": "[encoded data removed]",
      "text/plain": [
       "<Figure size 1800x500 with 1 Axes>"
      ]
     },
     "metadata": {},
     "output_type": "display_data"
    },
    {
     "data": {
      "image/png": "[encoded data removed]",
      "text/plain": [
       "<Figure size 640x480 with 2 Axes>"
      ]
     },
     "metadata": {},
     "output_type": "display_data"
    },
    {
     "data": {
      "image/png": "[encoded data removed]",
      "text/plain": [
       "<Figure size 640x480 with 2 Axes>"
      ]
     },
     "metadata": {},
     "output_type": "display_data"
    },
    {
     "data": {
      "image/png": "[encoded data removed]",
      "text/plain": [
       "<Figure size 640x480 with 1 Axes>"
      ]
     },
     "metadata": {},
     "output_type": "display_data"
    }
   ],
   "source": [
    "# Set up subplots\n",
    "features = ['Balance', 'CreditScore', 'Age']\n",
    "plt.figure(figsize=(18, 5))\n",
    "\n",
    "# Plot boxplots for each feature vs Exited\n",
    "for i, feature in enumerate(features):\n",
    "    plt.subplot(1, 3, i+1)\n",
    "    p.boxplot(column=feature, by='Exited', grid=False, patch_artist=True,\n",
    "               boxprops=dict(facecolor='lightblue'))\n",
    "    plt.title(f'{feature} vs. Churn (Exited)')\n",
    "    plt.suptitle('')\n",
    "    plt.xlabel('Exited (0 = Retained, 1 = Churned)')\n",
    "    plt.ylabel(feature)\n",
    "\n",
    "plt.tight_layout()\n",
    "plt.show()"
   ]
  },
  {
   "cell_type": "code",
   "execution_count": 42,
   "id": "db149ea2-9b5a-43a1-9217-a929ba868f37",
   "metadata": {},
   "outputs": [],
   "source": [
    "#Q21"
   ]
  },
  {
   "cell_type": "markdown",
   "id": "f12b0ec9-b079-4628-bb32-a8d883a77eb8",
   "metadata": {},
   "source": [
    "#### Group customers into age brackets (e.g.,18-30 as Adults, 30-50 as middle age and 50-100 as seniors.). How does churn rate change across them?"
   ]
  },
  {
   "cell_type": "code",
   "execution_count": 43,
   "id": "86a81451-c294-4d3a-b6f4-945907711ad9",
   "metadata": {},
   "outputs": [
    {
     "name": "stderr",
     "output_type": "stream",
     "text": [
      "C:\\Users\\DELL\\AppData\\Local\\Temp\\ipykernel_1292\\1914425214.py:9: FutureWarning: The default of observed=False is deprecated and will be changed to True in a future version of pandas. Pass observed=False to retain current behavior or observed=True to adopt the future default and silence this warning.\n",
      "  churn_by_age_group = p.groupby('AgeGroup')['Exited'].mean().reset_index()\n"
     ]
    }
   ],
   "source": [
    "# Define age brackets\n",
    "bins= [18, 30, 50, 100]\n",
    "labels = ['Adult (18-30)', 'Middle Age (31-50)', 'Senior (51-100)']\n",
    "\n",
    "# Create AgeGroup column\n",
    "p['AgeGroup'] = pd.cut(p['Age'], bins=bins, labels=labels, include_lowest=True)\n",
    "\n",
    "# Group by AgeGroup and calculate churn rate\n",
    "churn_by_age_group = p.groupby('AgeGroup')['Exited'].mean().reset_index()\n",
    "\n",
    "# Convert to percentage\n",
    "churn_by_age_group['ChurnRate (%)'] = churn_by_age_group['Exited'] * 100\n",
    "\n",
    "# Drop raw 'Exited' column for clarity\n",
    "churn_by_age_group = churn_by_age_group[['AgeGroup', 'ChurnRate (%)']]"
   ]
  },
  {
   "cell_type": "code",
   "execution_count": 44,
   "id": "4f77e436-12fb-4772-98dd-74b0f58a5879",
   "metadata": {},
   "outputs": [
    {
     "data": {
      "text/html": [
       "<div>\n",
       "<style scoped>\n",
       "    .dataframe tbody tr th:only-of-type {\n",
       "        vertical-align: middle;\n",
       "    }\n",
       "\n",
       "    .dataframe tbody tr th {\n",
       "        vertical-align: top;\n",
       "    }\n",
       "\n",
       "    .dataframe thead th {\n",
       "        text-align: right;\n",
       "    }\n",
       "</style>\n",
       "<table border=\"1\" class=\"dataframe\">\n",
       "  <thead>\n",
       "    <tr style=\"text-align: right;\">\n",
       "      <th></th>\n",
       "      <th>AgeGroup</th>\n",
       "      <th>ChurnRate (%)</th>\n",
       "    </tr>\n",
       "  </thead>\n",
       "  <tbody>\n",
       "    <tr>\n",
       "      <th>0</th>\n",
       "      <td>Adult (18-30)</td>\n",
       "      <td>7.520325</td>\n",
       "    </tr>\n",
       "    <tr>\n",
       "      <th>1</th>\n",
       "      <td>Middle Age (31-50)</td>\n",
       "      <td>19.598287</td>\n",
       "    </tr>\n",
       "    <tr>\n",
       "      <th>2</th>\n",
       "      <td>Senior (51-100)</td>\n",
       "      <td>44.647105</td>\n",
       "    </tr>\n",
       "  </tbody>\n",
       "</table>\n",
       "</div>"
      ],
      "text/plain": [
       "             AgeGroup  ChurnRate (%)\n",
       "0       Adult (18-30)       7.520325\n",
       "1  Middle Age (31-50)      19.598287\n",
       "2     Senior (51-100)      44.647105"
      ]
     },
     "execution_count": 44,
     "metadata": {},
     "output_type": "execute_result"
    }
   ],
   "source": [
    "churn_by_age_group"
   ]
  },
  {
   "cell_type": "code",
   "execution_count": 45,
   "id": "d08b2e3c-e37f-4f44-8d0a-8f539981cc2c",
   "metadata": {},
   "outputs": [],
   "source": [
    "#Q22\n"
   ]
  },
  {
   "cell_type": "markdown",
   "id": "9bad9c31-4c7e-476b-b72b-f3e71cdcc9f0",
   "metadata": {},
   "source": [
    "### Are customers with only one product (NumOfProducts = 1) more likely to churn than those with multiple?"
   ]
  },
  {
   "cell_type": "code",
   "execution_count": 46,
   "id": "ff8c17d4-ec2d-4ef1-8663-fceaead38f7c",
   "metadata": {},
   "outputs": [],
   "source": [
    "# Create a new column: 'ProductGroup'\n",
    "p['ProductGroup'] = p['NumOfProducts'].apply(lambda x: 'Single Product' if x == 1 else 'Multiple Products')\n",
    "\n",
    "# Calculate churn rate for each group\n",
    "churn_by_product_group = p.groupby('ProductGroup')['Exited'].mean().reset_index()\n",
    "\n",
    "# Convert to percentage\n",
    "churn_by_product_group['ChurnRate (%)'] = churn_by_product_group['Exited'] * 100\n",
    "\n",
    "# Drop raw 'Exited' column for clarity\n",
    "churn_by_product_group = churn_by_product_group[['ProductGroup', 'ChurnRate (%)']]"
   ]
  },
  {
   "cell_type": "code",
   "execution_count": 47,
   "id": "8592ad20-159c-4dcd-a29d-d7840cb3f45c",
   "metadata": {},
   "outputs": [
    {
     "data": {
      "text/html": [
       "<div>\n",
       "<style scoped>\n",
       "    .dataframe tbody tr th:only-of-type {\n",
       "        vertical-align: middle;\n",
       "    }\n",
       "\n",
       "    .dataframe tbody tr th {\n",
       "        vertical-align: top;\n",
       "    }\n",
       "\n",
       "    .dataframe thead th {\n",
       "        text-align: right;\n",
       "    }\n",
       "</style>\n",
       "<table border=\"1\" class=\"dataframe\">\n",
       "  <thead>\n",
       "    <tr style=\"text-align: right;\">\n",
       "      <th></th>\n",
       "      <th>ProductGroup</th>\n",
       "      <th>ChurnRate (%)</th>\n",
       "    </tr>\n",
       "  </thead>\n",
       "  <tbody>\n",
       "    <tr>\n",
       "      <th>0</th>\n",
       "      <td>Multiple Products</td>\n",
       "      <td>12.794955</td>\n",
       "    </tr>\n",
       "    <tr>\n",
       "      <th>1</th>\n",
       "      <td>Single Product</td>\n",
       "      <td>27.714398</td>\n",
       "    </tr>\n",
       "  </tbody>\n",
       "</table>\n",
       "</div>"
      ],
      "text/plain": [
       "        ProductGroup  ChurnRate (%)\n",
       "0  Multiple Products      12.794955\n",
       "1     Single Product      27.714398"
      ]
     },
     "execution_count": 47,
     "metadata": {},
     "output_type": "execute_result"
    }
   ],
   "source": [
    "churn_by_product_group"
   ]
  }
 ],
 "metadata": {
  "kernelspec": {
   "display_name": "Python [conda env:base] *",
   "language": "python",
   "name": "conda-base-py"
  },
  "language_info": {
   "codemirror_mode": {
    "name": "ipython",
    "version": 3
   },
   "file_extension": ".py",
   "mimetype": "text/x-python",
   "name": "python",
   "nbconvert_exporter": "python",
   "pygments_lexer": "ipython3",
   "version": "3.12.7"
  }
 },
 "nbformat": 4,
 "nbformat_minor": 5
}
